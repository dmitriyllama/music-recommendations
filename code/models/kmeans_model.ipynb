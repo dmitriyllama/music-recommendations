{
 "cells": [
  {
   "cell_type": "markdown",
   "metadata": {},
   "source": [
    "## KMeans clustering"
   ]
  },
  {
   "cell_type": "code",
   "execution_count": 8,
   "metadata": {},
   "outputs": [
    {
     "name": "stdout",
     "output_type": "stream",
     "text": [
      "Scaler and KMeans model have been saved successfully.\n"
     ]
    }
   ],
   "source": [
    "# kmeans_model.py\n",
    "import pandas as pd\n",
    "import os\n",
    "import joblib\n",
    "from sklearn.cluster import KMeans\n",
    "from sklearn.preprocessing import StandardScaler\n",
    "\n",
    "# Define features\n",
    "features = [\n",
    "    'danceability', 'energy', 'key', 'loudness', 'speechiness', \n",
    "    'acousticness', 'instrumentalness', 'liveness', 'valence', 'tempo'\n",
    "]\n",
    "\n",
    "# Load dataset\n",
    "parent_dir = os.path.dirname(os.path.dirname(os.getcwd()))\n",
    "file_path = os.path.join(parent_dir, \"data\", \"spotify_cleaned.csv\")\n",
    "Kmeans_cleaned = pd.read_csv(file_path)\n",
    "\n",
    "# Create and train the scaler and model separately\n",
    "scaler = StandardScaler()\n",
    "X = scaler.fit_transform(Kmeans_cleaned[features])\n",
    "\n",
    "kmeans = KMeans(n_clusters=10, random_state=42)\n",
    "Kmeans_cleaned['cluster'] = kmeans.fit_predict(X)\n",
    "\n",
    "# Save the scaler and KMeans model separately\n",
    "model_dir = os.path.abspath(os.path.join(os.getcwd(), '..', '..', 'models'))\n",
    "scaler_path = os.path.join(model_dir, 'StandardScaler.pkl')\n",
    "model_path = os.path.join(model_dir, 'kmeans_model.pkl')\n",
    "\n",
    "joblib.dump(scaler, scaler_path)\n",
    "joblib.dump(kmeans, model_path)\n",
    "# Save the training data (df_cleaned)\n",
    "\n",
    "Kmeans_cleaned.to_csv(os.path.join(parent_dir, \"data\", \"kmeans_model_data.csv\"), index=False)\n",
    "\n",
    "\n",
    "print(\"Scaler and KMeans model have been saved successfully.\")\n"
   ]
  }
 ],
 "metadata": {
  "kernelspec": {
   "display_name": "Python 3",
   "language": "python",
   "name": "python3"
  },
  "language_info": {
   "codemirror_mode": {
    "name": "ipython",
    "version": 3
   },
   "file_extension": ".py",
   "mimetype": "text/x-python",
   "name": "python",
   "nbconvert_exporter": "python",
   "pygments_lexer": "ipython3",
   "version": "3.12.5"
  }
 },
 "nbformat": 4,
 "nbformat_minor": 2
}
